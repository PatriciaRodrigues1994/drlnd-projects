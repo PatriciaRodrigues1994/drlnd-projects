{
 "cells": [
  {
   "cell_type": "markdown",
   "metadata": {},
   "source": [
    "# Continuous Control\n",
    "\n",
    "---\n",
    "\n",
    "You are welcome to use this coding environment to train your agent for the project.  Follow the instructions below to get started!\n",
    "\n",
    "### 1. Start the Environment\n",
    "\n",
    "Run the next code cell to install a few packages.  This line will take a few minutes to run!"
   ]
  },
  {
   "cell_type": "code",
   "execution_count": 1,
   "metadata": {},
   "outputs": [
    {
     "name": "stdout",
     "output_type": "stream",
     "text": [
      "\u001b[31mtensorflow 1.7.1 has requirement numpy>=1.13.3, but you'll have numpy 1.12.1 which is incompatible.\u001b[0m\r\n",
      "\u001b[31mipython 6.5.0 has requirement prompt-toolkit<2.0.0,>=1.0.15, but you'll have prompt-toolkit 2.0.10 which is incompatible.\u001b[0m\r\n"
     ]
    }
   ],
   "source": [
    "!pip -q install ./python"
   ]
  },
  {
   "cell_type": "code",
   "execution_count": 2,
   "metadata": {},
   "outputs": [],
   "source": [
    "import matplotlib.pyplot as plt\n",
    "%matplotlib inline\n",
    "\n",
    "import random\n",
    "import time\n",
    "import torch\n",
    "\n",
    "from collections import deque\n",
    "from ddpg_agent import Agent"
   ]
  },
  {
   "cell_type": "markdown",
   "metadata": {},
   "source": [
    "The environments corresponding to both versions of the environment are already saved in the Workspace and can be accessed at the file paths provided below.  \n",
    "\n",
    "Please select one of the two options below for loading the environment."
   ]
  },
  {
   "cell_type": "code",
   "execution_count": 3,
   "metadata": {},
   "outputs": [
    {
     "name": "stderr",
     "output_type": "stream",
     "text": [
      "INFO:unityagents:\n",
      "'Academy' started successfully!\n",
      "Unity Academy name: Academy\n",
      "        Number of Brains: 1\n",
      "        Number of External Brains : 1\n",
      "        Lesson number : 0\n",
      "        Reset Parameters :\n",
      "\t\tgoal_speed -> 1.0\n",
      "\t\tgoal_size -> 5.0\n",
      "Unity brain name: ReacherBrain\n",
      "        Number of Visual Observations (per agent): 0\n",
      "        Vector Observation space type: continuous\n",
      "        Vector Observation space size (per agent): 33\n",
      "        Number of stacked Vector Observation: 1\n",
      "        Vector Action space type: continuous\n",
      "        Vector Action space size (per agent): 4\n",
      "        Vector Action descriptions: , , , \n"
     ]
    }
   ],
   "source": [
    "from unityagents import UnityEnvironment\n",
    "import numpy as np\n",
    "\n",
    "# # select this option to load version 1 (with a single agent) of the environment\n",
    "# env = UnityEnvironment(file_name='/data/Reacher_One_Linux_NoVis/Reacher_One_Linux_NoVis.x86_64')\n",
    "\n",
    "# select this option to load version 2 (with 20 agents) of the environment\n",
    "env = UnityEnvironment(file_name='/data/Reacher_Linux_NoVis/Reacher.x86_64')"
   ]
  },
  {
   "cell_type": "markdown",
   "metadata": {},
   "source": [
    "Environments contain **_brains_** which are responsible for deciding the actions of their associated agents. Here we check for the first brain available, and set it as the default brain we will be controlling from Python."
   ]
  },
  {
   "cell_type": "code",
   "execution_count": 4,
   "metadata": {},
   "outputs": [],
   "source": [
    "# get the default brain\n",
    "brain_name = env.brain_names[0]\n",
    "brain = env.brains[brain_name]"
   ]
  },
  {
   "cell_type": "markdown",
   "metadata": {},
   "source": [
    "### 2. Examine the State and Action Spaces\n",
    "\n",
    "Run the code cell below to print some information about the environment."
   ]
  },
  {
   "cell_type": "code",
   "execution_count": 5,
   "metadata": {},
   "outputs": [
    {
     "name": "stdout",
     "output_type": "stream",
     "text": [
      "Number of agents: 20\n",
      "Size of each action: 4\n",
      "There are 20 agents. Each observes a state with length: 33\n",
      "The state for the first agent looks like: [  0.00000000e+00  -4.00000000e+00   0.00000000e+00   1.00000000e+00\n",
      "  -0.00000000e+00  -0.00000000e+00  -4.37113883e-08   0.00000000e+00\n",
      "   0.00000000e+00   0.00000000e+00   0.00000000e+00   0.00000000e+00\n",
      "   0.00000000e+00   0.00000000e+00  -1.00000000e+01   0.00000000e+00\n",
      "   1.00000000e+00  -0.00000000e+00  -0.00000000e+00  -4.37113883e-08\n",
      "   0.00000000e+00   0.00000000e+00   0.00000000e+00   0.00000000e+00\n",
      "   0.00000000e+00   0.00000000e+00   5.75471878e+00  -1.00000000e+00\n",
      "   5.55726624e+00   0.00000000e+00   1.00000000e+00   0.00000000e+00\n",
      "  -1.68164849e-01]\n"
     ]
    }
   ],
   "source": [
    "# reset the environment\n",
    "env_info = env.reset(train_mode=True)[brain_name]\n",
    "\n",
    "# number of agents\n",
    "num_agents = len(env_info.agents)\n",
    "print('Number of agents:', num_agents)\n",
    "\n",
    "# size of each action\n",
    "action_size = brain.vector_action_space_size\n",
    "print('Size of each action:', action_size)\n",
    "\n",
    "# examine the state space \n",
    "states = env_info.vector_observations\n",
    "state_size = states.shape[1]\n",
    "print('There are {} agents. Each observes a state with length: {}'.format(states.shape[0], state_size))\n",
    "print('The state for the first agent looks like:', states[0])"
   ]
  },
  {
   "cell_type": "markdown",
   "metadata": {},
   "source": [
    "### 3. Take Random Actions in the Environment\n",
    "\n",
    "In the next code cell, you will learn how to use the Python API to control the agent and receive feedback from the environment.\n",
    "\n",
    "Note that **in this coding environment, you will not be able to watch the agents while they are training**, and you should set `train_mode=True` to restart the environment."
   ]
  },
  {
   "cell_type": "code",
   "execution_count": 6,
   "metadata": {},
   "outputs": [
    {
     "name": "stdout",
     "output_type": "stream",
     "text": [
      "Total score (averaged over agents) this episode: 0.10399999767541886\n"
     ]
    }
   ],
   "source": [
    "env_info = env.reset(train_mode=True)[brain_name]      # reset the environment    \n",
    "states = env_info.vector_observations                  # get the current state (for each agent)\n",
    "scores = np.zeros(num_agents)                          # initialize the score (for each agent)\n",
    "while True:\n",
    "    actions = np.random.randn(num_agents, action_size) # select an action (for each agent)\n",
    "    actions = np.clip(actions, -1, 1)                  # all actions between -1 and 1\n",
    "    env_info = env.step(actions)[brain_name]           # send all actions to tne environment\n",
    "    next_states = env_info.vector_observations         # get next state (for each agent)\n",
    "    rewards = env_info.rewards                         # get reward (for each agent)\n",
    "    dones = env_info.local_done                        # see if episode finished\n",
    "    scores += env_info.rewards                         # update the score (for each agent)\n",
    "    states = next_states                               # roll over states to next time step\n",
    "    if np.any(dones):                                  # exit loop if episode finished\n",
    "        break\n",
    "print('Total score (averaged over agents) this episode: {}'.format(np.mean(scores)))"
   ]
  },
  {
   "cell_type": "markdown",
   "metadata": {},
   "source": [
    "When finished, you can close the environment."
   ]
  },
  {
   "cell_type": "code",
   "execution_count": 7,
   "metadata": {},
   "outputs": [],
   "source": [
    "# env.close()"
   ]
  },
  {
   "cell_type": "markdown",
   "metadata": {},
   "source": [
    "### 4. It's Your Turn!\n",
    "\n",
    "Now it's your turn to train your own agent to solve the environment!  A few **important notes**:\n",
    "- When training the environment, set `train_mode=True`, so that the line for resetting the environment looks like the following:\n",
    "```python\n",
    "env_info = env.reset(train_mode=True)[brain_name]\n",
    "```\n",
    "- To structure your work, you're welcome to work directly in this Jupyter notebook, or you might like to start over with a new file!  You can see the list of files in the workspace by clicking on **_Jupyter_** in the top left corner of the notebook.\n",
    "- In this coding environment, you will not be able to watch the agents while they are training.  However, **_after training the agents_**, you can download the saved model weights to watch the agents on your own machine! "
   ]
  },
  {
   "cell_type": "code",
   "execution_count": 7,
   "metadata": {},
   "outputs": [],
   "source": [
    "# DDPG function\n",
    "\n",
    "def ddpg(n_episodes=1000, max_t=1000, print_every=1,\n",
    "         actor_path ='weights/actor_r2_20_agent_ckpt.pth', \n",
    "         critic_path='weights/critic_r2_20_agent_ckpt.pth'):\n",
    "    \"\"\"Deep Deterministic Policy Gradient (DDPG)\n",
    "    \n",
    "    Params\n",
    "    ======\n",
    "        n_episodes  (int)   : maximum number of training episodes\n",
    "        max_t       (int)   : maximum number of timesteps per episode\n",
    "        print_every (int)   : interval to display results\n",
    "        actor_path  (str)   : file_name to store actor network weights\n",
    "        critic_path (str)   : file_name to store critic network weights\n",
    "\n",
    "    \"\"\"\n",
    "    mean_scores = []                               # list of mean scores from each episode\n",
    "    moving_avgs = []                               # list of moving averages\n",
    "    best_score  = -np.inf\n",
    "    scores_window = deque(maxlen=100)              # mean scores from most recent 100 episodes\n",
    "    \n",
    "    for i_episode in range(1, n_episodes+1):\n",
    "        env_info = env.reset(train_mode=True)[brain_name]       # reset environment\n",
    "        states = env_info.vector_observations                   # get current state for each agent      \n",
    "        scores = np.zeros(num_agents)                           # initialize score for each agent\n",
    "#         scores = 0\n",
    "        agent.reset()\n",
    "        start_time = time.time()\n",
    "        for t in range(max_t):\n",
    "            actions = agent.act(states, add_noise=True)         # select an action\n",
    "            env_info = env.step(actions)[brain_name]            # send actions to environment\n",
    "            next_states = env_info.vector_observations          # get next state\n",
    "            rewards = env_info.rewards                          # get reward\n",
    "            dones = env_info.local_done                         # see if episode has finished\n",
    "            # save experience to replay buffer, perform learning step at defined interval\n",
    "            for state, action, reward, next_state, done in zip(states, actions, rewards, next_states, dones):\n",
    "                agent.step(state, action, reward, next_state, done, t)             \n",
    "            states = next_states\n",
    "            scores += rewards \n",
    "#             print(scores)\n",
    "            if np.any(dones):                                   # exit loop when episode ends >>np.any(dones)\n",
    "                break\n",
    "        \n",
    "        duration = time.time() - start_time\n",
    "        mean_scores.append(np.mean(scores))           # save mean score for the episode\n",
    "        scores_window.append(mean_scores[-1])         # save mean score to window\n",
    "\n",
    "        if i_episode % 1 == 0:\n",
    "            print('\\rEpisode {}\\tAverage Score: {:.2f}'.format(i_episode, np.mean(scores_window)))\n",
    "        if np.mean(scores_window)>=30.0:\n",
    "            print('\\nEnvironment solved in {:d} episodes!\\tAverage Score: {:.2f}'.format(i_episode-100, np.mean(scores_window)))\n",
    "            torch.save(agent.actor_local.state_dict(),  actor_path)\n",
    "            torch.save(agent.critic_local.state_dict(), critic_path) \n",
    "            break\n",
    "    return scores, np.mean(scores_window)"
   ]
  },
  {
   "cell_type": "code",
   "execution_count": 8,
   "metadata": {},
   "outputs": [
    {
     "name": "stdout",
     "output_type": "stream",
     "text": [
      "Episode 1\tAverage Score: 0.99\n",
      "Episode 2\tAverage Score: 1.42\n",
      "Episode 3\tAverage Score: 1.74\n",
      "Episode 4\tAverage Score: 2.24\n",
      "Episode 5\tAverage Score: 2.47\n",
      "Episode 6\tAverage Score: 2.74\n",
      "Episode 7\tAverage Score: 3.07\n",
      "Episode 8\tAverage Score: 3.45\n",
      "Episode 9\tAverage Score: 3.84\n",
      "Episode 10\tAverage Score: 4.20\n",
      "Episode 11\tAverage Score: 4.59\n",
      "Episode 12\tAverage Score: 4.98\n",
      "Episode 13\tAverage Score: 5.52\n",
      "Episode 14\tAverage Score: 6.10\n",
      "Episode 15\tAverage Score: 6.62\n",
      "Episode 16\tAverage Score: 7.17\n",
      "Episode 17\tAverage Score: 7.69\n",
      "Episode 18\tAverage Score: 8.20\n",
      "Episode 19\tAverage Score: 8.76\n",
      "Episode 20\tAverage Score: 9.39\n",
      "Episode 21\tAverage Score: 10.05\n",
      "Episode 22\tAverage Score: 10.69\n",
      "Episode 23\tAverage Score: 11.30\n",
      "Episode 24\tAverage Score: 11.92\n",
      "Episode 25\tAverage Score: 12.48\n",
      "Episode 26\tAverage Score: 13.09\n",
      "Episode 27\tAverage Score: 13.67\n",
      "Episode 28\tAverage Score: 14.32\n",
      "Episode 29\tAverage Score: 15.02\n",
      "Episode 30\tAverage Score: 15.68\n",
      "Episode 31\tAverage Score: 16.29\n",
      "Episode 32\tAverage Score: 16.84\n",
      "Episode 33\tAverage Score: 17.38\n",
      "Episode 34\tAverage Score: 17.88\n",
      "Episode 35\tAverage Score: 18.42\n",
      "Episode 36\tAverage Score: 18.92\n",
      "Episode 37\tAverage Score: 19.40\n",
      "Episode 38\tAverage Score: 19.84\n",
      "Episode 39\tAverage Score: 20.27\n",
      "Episode 40\tAverage Score: 20.70\n",
      "Episode 41\tAverage Score: 21.10\n",
      "Episode 42\tAverage Score: 21.50\n",
      "Episode 43\tAverage Score: 21.88\n",
      "Episode 44\tAverage Score: 22.24\n",
      "Episode 45\tAverage Score: 22.60\n",
      "Episode 46\tAverage Score: 22.94\n",
      "Episode 47\tAverage Score: 23.25\n",
      "Episode 48\tAverage Score: 23.55\n",
      "Episode 49\tAverage Score: 23.85\n",
      "Episode 50\tAverage Score: 24.14\n",
      "Episode 51\tAverage Score: 24.41\n",
      "Episode 52\tAverage Score: 24.68\n",
      "Episode 53\tAverage Score: 24.94\n",
      "Episode 54\tAverage Score: 25.20\n",
      "Episode 55\tAverage Score: 25.45\n",
      "Episode 56\tAverage Score: 25.69\n",
      "Episode 57\tAverage Score: 25.92\n",
      "Episode 58\tAverage Score: 26.15\n",
      "Episode 59\tAverage Score: 26.37\n",
      "Episode 60\tAverage Score: 26.58\n",
      "Episode 61\tAverage Score: 26.79\n",
      "Episode 62\tAverage Score: 26.99\n",
      "Episode 63\tAverage Score: 27.18\n",
      "Episode 64\tAverage Score: 27.36\n",
      "Episode 65\tAverage Score: 27.54\n",
      "Episode 66\tAverage Score: 27.71\n",
      "Episode 67\tAverage Score: 27.87\n",
      "Episode 68\tAverage Score: 28.03\n",
      "Episode 69\tAverage Score: 28.18\n",
      "Episode 70\tAverage Score: 28.33\n",
      "Episode 71\tAverage Score: 28.46\n",
      "Episode 72\tAverage Score: 28.59\n",
      "Episode 73\tAverage Score: 28.73\n",
      "Episode 74\tAverage Score: 28.87\n",
      "Episode 75\tAverage Score: 28.99\n",
      "Episode 76\tAverage Score: 29.11\n",
      "Episode 77\tAverage Score: 29.22\n",
      "Episode 78\tAverage Score: 29.33\n",
      "Episode 79\tAverage Score: 29.44\n",
      "Episode 80\tAverage Score: 29.55\n",
      "Episode 81\tAverage Score: 29.65\n",
      "Episode 82\tAverage Score: 29.76\n",
      "Episode 83\tAverage Score: 29.86\n",
      "Episode 84\tAverage Score: 29.96\n",
      "Episode 85\tAverage Score: 30.06\n",
      "\n",
      "Environment solved in -15 episodes!\tAverage Score: 30.06\n"
     ]
    }
   ],
   "source": [
    "# run the training loop\n",
    "agent = Agent(state_size=state_size, action_size=action_size, random_seed=1)\n",
    "scores, avgs = ddpg()"
   ]
  },
  {
   "cell_type": "code",
   "execution_count": null,
   "metadata": {},
   "outputs": [],
   "source": [
    "import numpy as np\n",
    "np.save('./weights/scores.np', scores)"
   ]
  },
  {
   "cell_type": "markdown",
   "metadata": {},
   "source": [
    "## Model Architectures\n",
    "\n",
    "You can find the actor-critic logic implemented in the file ddpg_agent.py. The actor-critic models can be found via their respective Actor() and Critic() classes in models.py.\n",
    "\n",
    "In the algorithm, local and target networks are implemented separately for both the actor and the critic.\n",
    "\n",
    "### Actor Network (w/ Target Network)\n",
    "self.actor_local = Actor(state_size, action_size, random_seed).to(device)\n",
    "self.actor_target = Actor(state_size, action_size, random_seed).to(device)\n",
    "self.actor_optimizer = optim.Adam(self.actor_local.parameters(), lr=LR_ACTOR)\n",
    "\n",
    "### Critic Network (w/ Target Network)\n",
    "self.critic_local = Critic(state_size, action_size, random_seed).to(device)\n",
    "self.critic_target = Critic(state_size, action_size, random_seed).to(device)\n",
    "self.critic_optimizer = optim.Adam(self.critic_local.parameters(), lr=LR_CRITIC, weight_decay=WEIGHT_DECAY)"
   ]
  },
  {
   "cell_type": "markdown",
   "metadata": {},
   "source": [
    "### Final Hyper-parameters Used\n",
    "\n",
    "BUFFER_SIZE = int(1e6)  # replay buffer size   \n",
    "BATCH_SIZE = 128        # minibatch size   \n",
    "GAMMA = 0.99            # discount factor   \n",
    "TAU = 1e-3              # for soft update of target parameters  \n",
    "LR_ACTOR = 1e-3         # learning rate of the actor   \n",
    "LR_CRITIC = 1e-3        # learning rate of the critic   \n",
    "WEIGHT_DECAY = 0        # L2 weight decay   \n",
    "LEARN_EVERY = 20        # learning timestep interval   \n",
    "LEARN_NUM = 10          # number of learning passes  \n",
    "OU_SIGMA = 0.2          # Ornstein-Uhlenbeck noise parameter  \n",
    "OU_THETA = 0.15         # Ornstein-Uhlenbeck noise parameter   \n",
    "EPSILON = 1.0           # explore->exploit noise process added to act step    \n",
    "EPSILON_DECAY = 1e-6    # decay rate for noise process"
   ]
  },
  {
   "cell_type": "code",
   "execution_count": 13,
   "metadata": {},
   "outputs": [],
   "source": []
  },
  {
   "cell_type": "code",
   "execution_count": null,
   "metadata": {},
   "outputs": [],
   "source": []
  }
 ],
 "metadata": {
  "kernelspec": {
   "display_name": "Python 3",
   "language": "python",
   "name": "python3"
  },
  "language_info": {
   "codemirror_mode": {
    "name": "ipython",
    "version": 3
   },
   "file_extension": ".py",
   "mimetype": "text/x-python",
   "name": "python",
   "nbconvert_exporter": "python",
   "pygments_lexer": "ipython3",
   "version": "3.6.8"
  }
 },
 "nbformat": 4,
 "nbformat_minor": 2
}
